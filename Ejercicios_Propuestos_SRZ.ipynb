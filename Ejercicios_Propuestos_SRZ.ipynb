{
  "nbformat": 4,
  "nbformat_minor": 0,
  "metadata": {
    "colab": {
      "provenance": []
    },
    "kernelspec": {
      "name": "python3",
      "display_name": "Python 3"
    },
    "language_info": {
      "name": "python"
    }
  },
  "cells": [
    {
      "cell_type": "markdown",
      "source": [
        "Escribe un programa que:\n",
        "Pregunta al usuario su edad actual.\n",
        "Calcula y muestra su edad dentro de 10 años."
      ],
      "metadata": {
        "id": "JAaXzY1Yq2Gl"
      }
    },
    {
      "cell_type": "code",
      "source": [
        "edad = input('Digita tu edad ')\n",
        "edad_proxima = int(edad) + 10\n",
        "print('Tu edad dentro de 10 años será:', edad_proxima)"
      ],
      "metadata": {
        "colab": {
          "base_uri": "https://localhost:8080/"
        },
        "id": "JNoBIzvlq5H0",
        "outputId": "85e42890-8525-4726-9df2-b111f20f8948"
      },
      "execution_count": 3,
      "outputs": [
        {
          "output_type": "stream",
          "name": "stdout",
          "text": [
            "Digita tu edad 25\n",
            "Tu edad dentro de 10 años será: 35\n"
          ]
        }
      ]
    },
    {
      "cell_type": "markdown",
      "source": [
        "Escribe un programa que:\n",
        "Pregunta al usuario cuál es su color, comida y pasatiempo favorito.\n",
        "Genera una oración resumida usando sus entradas."
      ],
      "metadata": {
        "id": "tSSHXMKDsNPO"
      }
    },
    {
      "cell_type": "code",
      "source": [
        "color= input('¿Cual es su color favorito? ')\n",
        "comida= input('¿Cual es su comida favorita? ')\n",
        "pasatiempo= input('¿Cual es su pasatiempo favorito? ')\n",
        "print('El usuario tiene como comida favorita',comida,\n",
        "      'aparte de esto en su tiempo libre se dedica a',pasatiempo,\n",
        "      'y su color favorito es el',color)"
      ],
      "metadata": {
        "colab": {
          "base_uri": "https://localhost:8080/"
        },
        "id": "-4DpfQHPs2RL",
        "outputId": "c83c54ff-a831-4dbf-be52-0b3e052fa5c0"
      },
      "execution_count": 4,
      "outputs": [
        {
          "output_type": "stream",
          "name": "stdout",
          "text": [
            "¿Cual es su color favorito? rojo\n",
            "¿Cual es su comida favorita? hamburguesa\n",
            "¿Cual es su pasatiempo favorito? jugar futbol\n",
            "El usuario tiene como comida favorita hamburguesa aparte de esto en su tiempo libre se dedica a jugar futbol y su color favorito es el rojo\n"
          ]
        }
      ]
    },
    {
      "cell_type": "markdown",
      "source": [
        "\n",
        "Escribe un programa que:\n",
        "Solicita al usuario que ingrese una temperatura en grados Celsius.\n",
        "Lo convierte a Fahrenheit y muestra el resultado."
      ],
      "metadata": {
        "id": "TQ7x8f0s9vGg"
      }
    },
    {
      "cell_type": "code",
      "source": [
        "grados_celcius= input('Ingrese los grados Celsius ')\n",
        "resultado=(int(grados_celcius)*9/5)+32\n",
        "print('La conversión de Celsius a Fahrenheit es:',resultado)"
      ],
      "metadata": {
        "colab": {
          "base_uri": "https://localhost:8080/"
        },
        "id": "08mJZ3eV9yfk",
        "outputId": "cdccd3b8-a702-4dc1-b1fc-7c8f4a6e4de6"
      },
      "execution_count": 5,
      "outputs": [
        {
          "output_type": "stream",
          "name": "stdout",
          "text": [
            "Ingrese los grados Celcius 5\n",
            "La conversión de Celcius a Fahrenheit es: 41.0\n"
          ]
        }
      ]
    },
    {
      "cell_type": "markdown",
      "source": [
        "Escribe un programa que:\n",
        "Pide al usuario que adivine un número entre 1 y 10.\n",
        "Muestra si la suposición es correcta (suponga que el número es 7 para este ejercicio)."
      ],
      "metadata": {
        "id": "r8Deuolp-aLL"
      }
    },
    {
      "cell_type": "code",
      "source": [
        "numero_correcto= 7\n",
        "numero_usuario= int(input('Escribe un numero del 1 al 10 para adivinar '))\n",
        "if(numero_correcto==numero_usuario):\n",
        "    print('Adivinaste el numero')\n",
        "else:\n",
        "    print('No adivinaste el numero')"
      ],
      "metadata": {
        "colab": {
          "base_uri": "https://localhost:8080/"
        },
        "id": "lCAoFPoI-0XR",
        "outputId": "0d0027ce-04be-4589-fb56-94b3c62cb677"
      },
      "execution_count": 7,
      "outputs": [
        {
          "output_type": "stream",
          "name": "stdout",
          "text": [
            "Escribe un numero del 1 al 10 para adivinar 1\n",
            "No adivinaste el numero\n"
          ]
        }
      ]
    },
    {
      "cell_type": "code",
      "source": [
        "palabra= input('Escriba la palabra ')\n",
        "numero= int(input('Digite el numero de veces que se repetirá la palabra '))\n",
        "\n",
        "for i in range(numero):\n",
        "    print(palabra)"
      ],
      "metadata": {
        "colab": {
          "base_uri": "https://localhost:8080/"
        },
        "id": "oOjHOEYtx5Z9",
        "outputId": "3c4b5802-ad0d-4862-b00f-0972aef777bb"
      },
      "execution_count": 2,
      "outputs": [
        {
          "output_type": "stream",
          "name": "stdout",
          "text": [
            "Escriba la palabra hola\n",
            "Digite el numero de veces que se repetirá la palabra 3\n",
            "hola\n",
            "hola\n",
            "hola\n"
          ]
        }
      ]
    },
    {
      "cell_type": "markdown",
      "source": [
        "Escribe un programa que:\n",
        "Pide al usuario que introduzca una frase.\n",
        "Genera la oración en mayúsculas, minúsculas y con la primera letra de cada palabra en mayúscula."
      ],
      "metadata": {
        "id": "gwwghRfy0aIA"
      }
    },
    {
      "cell_type": "code",
      "source": [
        "frase= input('Escriba una frase ')\n",
        "print(frase.upper())\n",
        "print(frase.title())\n",
        "print(frase.lower())"
      ],
      "metadata": {
        "colab": {
          "base_uri": "https://localhost:8080/"
        },
        "id": "Gc2jxe2h1MoA",
        "outputId": "c750f651-e834-4ff0-be68-fe2cdc4e3211"
      },
      "execution_count": 7,
      "outputs": [
        {
          "output_type": "stream",
          "name": "stdout",
          "text": [
            "Escriba una frase hola como van\n",
            "HOLA COMO VAN\n",
            "Hola Como Van\n",
            "hola como van\n"
          ]
        }
      ]
    },
    {
      "cell_type": "markdown",
      "source": [
        "Escribe un programa que:\n",
        "Pide al usuario que ingrese dos valores booleanos (Verdadero o Falso).\n",
        "Evalúa y muestra los resultados de operaciones lógicas (y, o no) entre los dos valores."
      ],
      "metadata": {
        "id": "oCN2kN1b2_9b"
      }
    },
    {
      "cell_type": "code",
      "source": [
        "valor_1=input('Escriba un valor True/False ')\n",
        "valor_2=input('Escriba un valor True/False ')\n",
        "\n",
        "if(valor_1 == 'True'):\n",
        "    valor_1=True\n",
        "else:\n",
        "    valor_1=False\n",
        "\n",
        "if(valor_2 == 'True'):\n",
        "    valor_2=True\n",
        "else:\n",
        "    valor_2=False\n",
        "\n",
        "\n",
        "print('Resultado AND',valor_1 and valor_2)\n",
        "print('Resultado OR',valor_1 or valor_2)\n",
        "print('Resultado NOT valor 1',not valor_1 )\n",
        "print('Resultado NOT valor 2',not valor_2)"
      ],
      "metadata": {
        "colab": {
          "base_uri": "https://localhost:8080/"
        },
        "id": "LTPthljj3Bpk",
        "outputId": "3de9a04f-9deb-40ac-aac0-eaa650e0e539"
      },
      "execution_count": 15,
      "outputs": [
        {
          "output_type": "stream",
          "name": "stdout",
          "text": [
            "Escriba un valor True/False True\n",
            "Escriba un valor True/False False\n",
            "Resultado AND False\n",
            "Resultado OR True\n",
            "Resultado NOT valor 1 False\n",
            "Resultado NOT valor 2 True\n"
          ]
        }
      ]
    }
  ]
}