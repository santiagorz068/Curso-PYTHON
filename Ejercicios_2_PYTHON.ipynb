{
  "nbformat": 4,
  "nbformat_minor": 0,
  "metadata": {
    "colab": {
      "provenance": [],
      "authorship_tag": "ABX9TyOAVsfU7jTcpnYZzOcBJ0tR"
    },
    "kernelspec": {
      "name": "python3",
      "display_name": "Python 3"
    },
    "language_info": {
      "name": "python"
    }
  },
  "cells": [
    {
      "cell_type": "markdown",
      "source": [
        "Escribe un programa que:\n",
        "Pide al usuario un año.\n",
        "Determina si el año es bisiesto.\n",
        "Pista: un año bisiesto es divisible por 4 pero no por 100 a menos que también sea divisible por 400\n",
        "\n",
        "\n"
      ],
      "metadata": {
        "id": "m1miR6dTLAbO"
      }
    },
    {
      "cell_type": "code",
      "source": [
        "anio= int(input('Ingrese un año para su verificación '))\n",
        "residuo_anio_400= anio % 400\n",
        "residuo_anio_100= anio % 100\n",
        "residuo_anio_4= anio % 4\n",
        "if (residuo_anio_4 == 0 and residuo_anio_100 != 0):\n",
        "    print('El año',anio, 'es bisiesto')\n",
        "elif(residuo_anio_400==0 and residuo_anio_100==0):\n",
        "    print('El año',anio, 'es bisiesto')\n",
        "else:\n",
        "    print('El año no es bisiesto')"
      ],
      "metadata": {
        "colab": {
          "base_uri": "https://localhost:8080/"
        },
        "id": "C-TtYp38LFCO",
        "outputId": "a718ccb5-f96f-4114-fd1f-cf4d82d2f6a7"
      },
      "execution_count": 10,
      "outputs": [
        {
          "output_type": "stream",
          "name": "stdout",
          "text": [
            "Ingrese un año para su verificación 400\n",
            "El año 400 es bisiesto\n"
          ]
        }
      ]
    },
    {
      "cell_type": "markdown",
      "source": [
        "Escribe un programa que:\n",
        "Solicita al usuario que ingrese dos números y un operador (+, -, *, /).\n",
        "Realiza la operación y muestra el resultado."
      ],
      "metadata": {
        "id": "KycWFo3PwKfw"
      }
    },
    {
      "cell_type": "code",
      "source": [
        "numero_1 = int(input('Ingrese un número '))\n",
        "numero_2 = int(input('Ingrese otro número '))\n",
        "operador = input('Ingrese un operador')\n",
        "\n",
        "if(operador=='+'):\n",
        "    print('El resultado de la suma es:',numero_1 + numero_2)\n",
        "elif(operador=='-'):\n",
        "    print('El resultado de la resta es:',numero_1 - numero_2)\n",
        "elif(operador=='*'):\n",
        "    print('El resultado de la multiplicación es:',numero_1 * numero_2)\n",
        "elif(operador=='/'):\n",
        "    print('El resultado de la división es:',numero_1 / numero_2)\n",
        "else:\n",
        "    print('Operador no disponible')\n"
      ],
      "metadata": {
        "colab": {
          "base_uri": "https://localhost:8080/"
        },
        "id": "iZ8HOV1BwZAV",
        "outputId": "42fbeeb3-4f9d-4963-e1ea-5bd95507411e"
      },
      "execution_count": 11,
      "outputs": [
        {
          "output_type": "stream",
          "name": "stdout",
          "text": [
            "Ingrese un número5\n",
            "Ingrese otro número5\n",
            "Ingrese un operador-\n",
            "El resultado de la resta es: 0\n"
          ]
        }
      ]
    },
    {
      "cell_type": "markdown",
      "source": [
        "Escribe un programa que:\n",
        "Solicita al usuario que ingrese un número.\n",
        "Clasifica el número como positivo, negativo o cero."
      ],
      "metadata": {
        "id": "J2IAdW-6zV7s"
      }
    },
    {
      "cell_type": "code",
      "source": [
        "numero= int(input('Ingrese un numero '))\n",
        "\n",
        "if(numero==0):\n",
        "    print('El número ingresado es neutro')\n",
        "elif(numero<0):\n",
        "    print('El número es negativo')\n",
        "elif(numero>0):\n",
        "    print('El número es positivo')"
      ],
      "metadata": {
        "colab": {
          "base_uri": "https://localhost:8080/"
        },
        "id": "rqVwXEeSzWli",
        "outputId": "cf25d84b-68dc-4db1-d14e-79ff4e9c5dfc"
      },
      "execution_count": 14,
      "outputs": [
        {
          "output_type": "stream",
          "name": "stdout",
          "text": [
            "Ingrese un numero 1000\n",
            "El número es positivo\n"
          ]
        }
      ]
    },
    {
      "cell_type": "markdown",
      "source": [
        "Escribe un programa usando match...case que:\n",
        "Pide al usuario que ingrese un número (1-7).\n",
        "Genera el día correspondiente de la semana (por ejemplo, 1 para el lunes, 7 para el domingo).\n"
      ],
      "metadata": {
        "id": "Lzw-QpPN0FsH"
      }
    },
    {
      "cell_type": "code",
      "source": [
        "numero= int(input('Ingrese un numero '))\n",
        "\n",
        "match numero:\n",
        "    case 1:\n",
        "        print('Es Lunes')\n",
        "    case 2:\n",
        "        print('Es Martes')\n",
        "    case 3:\n",
        "        print('Es Miercoles')\n",
        "    case 4:\n",
        "        print('Es Jueves')\n",
        "    case 5:\n",
        "        print('Es Viernes')\n",
        "    case 6:\n",
        "        print('Es Sabado')\n",
        "    case 7:\n",
        "        print('Es Domingo')\n"
      ],
      "metadata": {
        "colab": {
          "base_uri": "https://localhost:8080/"
        },
        "id": "I-s97AWI0HMp",
        "outputId": "6923c05b-b05b-4862-f414-3614d9704890"
      },
      "execution_count": 15,
      "outputs": [
        {
          "output_type": "stream",
          "name": "stdout",
          "text": [
            "Ingrese un numero 5\n",
            "Es Viernes\n"
          ]
        }
      ]
    },
    {
      "cell_type": "markdown",
      "source": [
        "Escribe un programa que:\n",
        "Solicita al usuario que ingrese un solo carácter.\n",
        "Determina si el carácter es vocal, consonante, dígito o carácter especial."
      ],
      "metadata": {
        "id": "FrXGcXDo3C4t"
      }
    },
    {
      "cell_type": "code",
      "source": [
        "caracter=input('Ingrese un caracter ')\n",
        "if caracter.lower() in \"aeiou\":\n",
        "    print(f\"El carácter '{caracter}' es una vocal.\")\n",
        "elif caracter.isalpha():\n",
        "    print(f\"El carácter '{caracter}' es una consonante.\")\n",
        "elif caracter.isdigit():\n",
        "    print(f\"El carácter '{caracter}' es un dígito.\")\n",
        "else:\n",
        "    print(f\"El carácter '{caracter}' es un carácter especial.\")"
      ],
      "metadata": {
        "colab": {
          "base_uri": "https://localhost:8080/"
        },
        "id": "D6vZ3MYW3FKA",
        "outputId": "bbed9267-ebf4-4e54-9858-301cd8edec96"
      },
      "execution_count": 16,
      "outputs": [
        {
          "output_type": "stream",
          "name": "stdout",
          "text": [
            "Ingrese un caracter 5\n",
            "El carácter '5' es un dígito.\n"
          ]
        }
      ]
    }
  ]
}